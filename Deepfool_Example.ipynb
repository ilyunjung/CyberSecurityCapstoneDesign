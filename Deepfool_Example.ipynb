{
  "nbformat": 4,
  "nbformat_minor": 0,
  "metadata": {
    "colab": {
      "provenance": [],
      "authorship_tag": "ABX9TyPx8SX8w/8jUJCrv7JDQCN1",
      "include_colab_link": true
    },
    "kernelspec": {
      "name": "python3",
      "display_name": "Python 3"
    },
    "language_info": {
      "name": "python"
    },
    "accelerator": "GPU",
    "gpuClass": "standard"
  },
  "cells": [
    {
      "cell_type": "markdown",
      "metadata": {
        "id": "view-in-github",
        "colab_type": "text"
      },
      "source": [
        "<a href=\"https://colab.research.google.com/github/ilyunjung/CyberSecurityCapstoneDesign/blob/main/Deepfool_Example.ipynb\" target=\"_parent\"><img src=\"https://colab.research.google.com/assets/colab-badge.svg\" alt=\"Open In Colab\"/></a>"
      ]
    },
    {
      "cell_type": "markdown",
      "source": [
        "## **deepfool**"
      ],
      "metadata": {
        "id": "sAVCgx_8y5Rg"
      }
    },
    {
      "cell_type": "markdown",
      "source": [
        "gradient 계산이 아닌 여러 개의 점에서 decision boundary에 대해 수직으로 투영하고 적당한 노이즈를\n",
        "추가하여 적대적 사례를 만드는 방법"
      ],
      "metadata": {
        "id": "aa6-h_yAsVr5"
      }
    },
    {
      "cell_type": "code",
      "source": [
        "from keras.datasets import cifar10\n",
        "import tensorflow as tf\n",
        "from tensorflow.keras.layers import Flatten\n",
        "import numpy as np\n",
        "from keras.utils import to_categorical \n",
        "from sklearn.utils import shuffle\n",
        "import os\n",
        "import matplotlib.pyplot as plt\n",
        "import tensorflow.compat.v1 as tf\n",
        "tf.disable_v2_behavior()"
      ],
      "metadata": {
        "colab": {
          "base_uri": "https://localhost:8080/"
        },
        "id": "PZ3Ld5lcszkZ",
        "outputId": "75752d02-05b6-4a33-9035-80d38a32ea36"
      },
      "execution_count": 4,
      "outputs": [
        {
          "output_type": "stream",
          "name": "stderr",
          "text": [
            "WARNING:tensorflow:From /usr/local/lib/python3.9/dist-packages/tensorflow/python/compat/v2_compat.py:107: disable_resource_variables (from tensorflow.python.ops.variable_scope) is deprecated and will be removed in a future version.\n",
            "Instructions for updating:\n",
            "non-resource variables are not supported in the long term\n"
          ]
        }
      ]
    },
    {
      "cell_type": "markdown",
      "source": [
        "Lenet 구현\n",
        "데이터 전처리"
      ],
      "metadata": {
        "id": "1EF0UVIMuAVj"
      }
    },
    {
      "cell_type": "code",
      "source": [
        "def pre_data():\n",
        "  (x_train, y_train), (x_test, y_test) = cifar10.load_data()\n",
        "\n",
        "  x_train = x_train / 255.\n",
        "  x_test = x_test / 255.\n",
        "\n",
        "  y_train = to_categorical(y_train, 10,dtype='float32')\n",
        "  y_test = to_categorical(y_test, 10,dtype='float32')  \n",
        "\n",
        "  return x_train, y_train, x_test, y_test"
      ],
      "metadata": {
        "id": "6RWCvipTszm1"
      },
      "execution_count": 2,
      "outputs": []
    },
    {
      "cell_type": "markdown",
      "source": [
        "Classifier 생성"
      ],
      "metadata": {
        "id": "6VOopohNuB7c"
      }
    },
    {
      "cell_type": "code",
      "source": [
        "def init_weight(shape):\n",
        "  w = tf.truncated_normal(shape = shape, stddev = 0.1)\n",
        "  return tf.Variable(w)\n",
        "\n",
        "def init_bias(shape):\n",
        "  b = tf.zeros(shape)\n",
        "  return tf.Variable(b)\n",
        "  \n",
        "def CNN_classifier(x):\n",
        "\n",
        "  conv1_w = init_weight((5,5,3,64))\n",
        "  conv1_b = init_bias(64)\n",
        "  conv1 = tf.nn.conv2d(x,conv1_w, strides = [1,1,1,1], padding = 'SAME') + conv1_b\n",
        "  conv1 = tf.nn.relu(conv1)\n",
        "\n",
        "  conv1 = tf.nn.max_pool2d(conv1,ksize = [1,2,2,1], strides = [1,2,2,1], padding = 'SAME')\n",
        "\n",
        "  conv2_w = init_weight((5,5,64,64))\n",
        "  conv2_b = init_bias(64)\n",
        "  conv2 = tf.nn.conv2d(conv1,conv2_w, strides = [1,1,1,1], padding = \"SAME\") + conv2_b\n",
        "  conv2 = tf.nn.relu(conv2)\n",
        "\n",
        "  conv2 = tf.nn.max_pool2d(conv2, ksize = [1,2,2,1], strides = [1,2,2,1], padding = \"SAME\")\n",
        "\n",
        "  conv3_w = init_weight((5,5,64,64))\n",
        "  conv3_b = init_bias(64)\n",
        "  conv3 = tf.nn.conv2d(conv2,conv3_w, strides = [1,1,1,1], padding = \"SAME\") + conv3_b\n",
        "  conv3 = tf.nn.relu(conv3)\n",
        "\n",
        "  conv3 = tf.nn.max_pool2d(conv3, ksize = [1,2,2,1], strides = [1,2,2,1], padding = \"SAME\")\n",
        "\n",
        "  fc0 = Flatten()(conv3)\n",
        "\n",
        "  fc1_w = init_weight((1024,120))\n",
        "  fc1_b = init_bias(120)\n",
        "  fc1 = tf.matmul(fc0,fc1_w) + fc1_b\n",
        "  fc1 = tf.nn.relu(fc1)\n",
        "\n",
        "  fc2_w = init_weight((120,84))\n",
        "  fc2_b = init_bias(84)\n",
        "  fc2 = tf.matmul(fc1,fc2_w) + fc2_b\n",
        "  fc2 = tf.nn.relu(fc2)\n",
        "\n",
        "  fc3_w = init_weight((84,10))\n",
        "  fc3_b = init_bias(10)\n",
        "  fc3 = tf.add(tf.matmul(fc2,fc3_w),fc3_b, name = 'last_layer')\n",
        "  output = tf.nn.softmax(fc3, name = 'logits')\n",
        "  \n",
        "  return output\n",
        "  \n",
        "x_train, y_train, x_test, y_test = pre_data()\n",
        "x_train, y_train = shuffle(x_train, y_train)\n",
        "\n",
        "EPOCHS = 15\n",
        "BATCH_SIZE = 128\n",
        "\n",
        "x = tf.placeholder(tf.float32, (None,32,32,3), name = 'x')\n",
        "y = tf.placeholder(tf.float32, (None,10), name = 'y')\n",
        "\n",
        "logits = CNN_classifier(x)\n",
        "loss_operation = tf.reduce_mean(-tf.reduce_sum(y * tf.log(logits), 1))\n",
        "\n",
        "train_operation = tf.train.AdamOptimizer(1e-3).minimize(loss_operation)\n",
        "\n",
        "correct_prediction = tf.equal(tf.argmax(logits, axis = 1),tf.argmax(y, axis =1), name = 'correct_prediction')\n",
        "accuracy_operation = tf.reduce_mean(tf.cast(correct_prediction, tf.float32), name = 'accuracy_operation')\n",
        "saver = tf.train.Saver()"
      ],
      "metadata": {
        "id": "idgOxRTiszo7"
      },
      "execution_count": 5,
      "outputs": []
    },
    {
      "cell_type": "markdown",
      "source": [
        "Classifier 훈련"
      ],
      "metadata": {
        "id": "gPL8DJ_nuD1o"
      }
    },
    {
      "cell_type": "code",
      "source": [
        "persisted_sess = tf.Session()\n",
        "print (tf.global_variables())\n",
        "persisted_sess.run(tf.global_variables_initializer())\n",
        "\n",
        "num_examples = len(x_train)\n",
        "\n",
        "print('Training...')\n",
        "\n",
        "for i in range(EPOCHS):\n",
        "  x_train, y_train = shuffle(x_train, y_train)\n",
        "\n",
        "  for offset in range(0,num_examples,BATCH_SIZE):\n",
        "    batch_x = x_train[offset:offset+BATCH_SIZE]\n",
        "    batch_y = y_train[offset:offset+BATCH_SIZE]\n",
        "\n",
        "    persisted_sess.run(train_operation, feed_dict = {x : batch_x, y: batch_y})\n",
        "    \n",
        "  train_accuracy = persisted_sess.run(accuracy_operation, feed_dict = { x : batch_x, y: batch_y})\n",
        "  print (\"EPOCH {}...\".format(i+1))\n",
        "  print (\"Training Accuracy = {:.3f}\".format(train_accuracy))\n",
        "  \n",
        "saver.save(persisted_sess,'CNN_classifier')\n",
        "print (\"Model Saved\")\n",
        "\n",
        "persisted_sess.close()"
      ],
      "metadata": {
        "colab": {
          "base_uri": "https://localhost:8080/"
        },
        "id": "AYOm9dLxszrQ",
        "outputId": "e70d13e6-7763-4db4-b1d5-703de4854848"
      },
      "execution_count": 6,
      "outputs": [
        {
          "output_type": "stream",
          "name": "stdout",
          "text": [
            "[<tf.Variable 'Variable:0' shape=(5, 5, 3, 64) dtype=float32_ref>, <tf.Variable 'Variable_1:0' shape=(64,) dtype=float32_ref>, <tf.Variable 'Variable_2:0' shape=(5, 5, 64, 64) dtype=float32_ref>, <tf.Variable 'Variable_3:0' shape=(64,) dtype=float32_ref>, <tf.Variable 'Variable_4:0' shape=(5, 5, 64, 64) dtype=float32_ref>, <tf.Variable 'Variable_5:0' shape=(64,) dtype=float32_ref>, <tf.Variable 'Variable_6:0' shape=(1024, 120) dtype=float32_ref>, <tf.Variable 'Variable_7:0' shape=(120,) dtype=float32_ref>, <tf.Variable 'Variable_8:0' shape=(120, 84) dtype=float32_ref>, <tf.Variable 'Variable_9:0' shape=(84,) dtype=float32_ref>, <tf.Variable 'Variable_10:0' shape=(84, 10) dtype=float32_ref>, <tf.Variable 'Variable_11:0' shape=(10,) dtype=float32_ref>, <tf.Variable 'beta1_power:0' shape=() dtype=float32_ref>, <tf.Variable 'beta2_power:0' shape=() dtype=float32_ref>, <tf.Variable 'Variable/Adam:0' shape=(5, 5, 3, 64) dtype=float32_ref>, <tf.Variable 'Variable/Adam_1:0' shape=(5, 5, 3, 64) dtype=float32_ref>, <tf.Variable 'Variable_1/Adam:0' shape=(64,) dtype=float32_ref>, <tf.Variable 'Variable_1/Adam_1:0' shape=(64,) dtype=float32_ref>, <tf.Variable 'Variable_2/Adam:0' shape=(5, 5, 64, 64) dtype=float32_ref>, <tf.Variable 'Variable_2/Adam_1:0' shape=(5, 5, 64, 64) dtype=float32_ref>, <tf.Variable 'Variable_3/Adam:0' shape=(64,) dtype=float32_ref>, <tf.Variable 'Variable_3/Adam_1:0' shape=(64,) dtype=float32_ref>, <tf.Variable 'Variable_4/Adam:0' shape=(5, 5, 64, 64) dtype=float32_ref>, <tf.Variable 'Variable_4/Adam_1:0' shape=(5, 5, 64, 64) dtype=float32_ref>, <tf.Variable 'Variable_5/Adam:0' shape=(64,) dtype=float32_ref>, <tf.Variable 'Variable_5/Adam_1:0' shape=(64,) dtype=float32_ref>, <tf.Variable 'Variable_6/Adam:0' shape=(1024, 120) dtype=float32_ref>, <tf.Variable 'Variable_6/Adam_1:0' shape=(1024, 120) dtype=float32_ref>, <tf.Variable 'Variable_7/Adam:0' shape=(120,) dtype=float32_ref>, <tf.Variable 'Variable_7/Adam_1:0' shape=(120,) dtype=float32_ref>, <tf.Variable 'Variable_8/Adam:0' shape=(120, 84) dtype=float32_ref>, <tf.Variable 'Variable_8/Adam_1:0' shape=(120, 84) dtype=float32_ref>, <tf.Variable 'Variable_9/Adam:0' shape=(84,) dtype=float32_ref>, <tf.Variable 'Variable_9/Adam_1:0' shape=(84,) dtype=float32_ref>, <tf.Variable 'Variable_10/Adam:0' shape=(84, 10) dtype=float32_ref>, <tf.Variable 'Variable_10/Adam_1:0' shape=(84, 10) dtype=float32_ref>, <tf.Variable 'Variable_11/Adam:0' shape=(10,) dtype=float32_ref>, <tf.Variable 'Variable_11/Adam_1:0' shape=(10,) dtype=float32_ref>]\n",
            "Training...\n",
            "EPOCH 1...\n",
            "Training Accuracy = 0.575\n",
            "EPOCH 2...\n",
            "Training Accuracy = 0.525\n",
            "EPOCH 3...\n",
            "Training Accuracy = 0.712\n",
            "EPOCH 4...\n",
            "Training Accuracy = 0.725\n",
            "EPOCH 5...\n",
            "Training Accuracy = 0.738\n",
            "EPOCH 6...\n",
            "Training Accuracy = 0.837\n",
            "EPOCH 7...\n",
            "Training Accuracy = 0.875\n",
            "EPOCH 8...\n",
            "Training Accuracy = 0.925\n",
            "EPOCH 9...\n",
            "Training Accuracy = 0.837\n",
            "EPOCH 10...\n",
            "Training Accuracy = 0.938\n",
            "EPOCH 11...\n",
            "Training Accuracy = 0.962\n",
            "EPOCH 12...\n",
            "Training Accuracy = 0.938\n",
            "EPOCH 13...\n",
            "Training Accuracy = 0.913\n",
            "EPOCH 14...\n",
            "Training Accuracy = 0.988\n",
            "EPOCH 15...\n",
            "Training Accuracy = 0.100\n",
            "Model Saved\n"
          ]
        }
      ]
    },
    {
      "cell_type": "markdown",
      "source": [
        "DeepFool 구현"
      ],
      "metadata": {
        "id": "l-3rDTGvuF59"
      }
    },
    {
      "cell_type": "code",
      "source": [
        "tf.reset_default_graph()\n",
        "\n",
        "sess = tf.Session()\n",
        "saver = tf.train.import_meta_graph('CNN_classifier.meta')\n",
        "saver.restore(sess, tf.train.latest_checkpoint('.'))\n",
        "\n",
        "num_classes = 10\n",
        "\n",
        "def jacobian(y_flat,input_image,inds):\n",
        "  grads = []\n",
        "\n",
        "  for i in range(num_classes):\n",
        "    grad = tf.gradients(y_flat[inds[i]],input_image)\n",
        "    grads.append(grad)    \n",
        "\n",
        "  return grads\n",
        "  \n",
        "last_layer = tf.get_default_graph().get_tensor_by_name(\"last_layer:0\")\n",
        "last_layer_flat = tf.reshape(last_layer, (-1,))\n",
        "\n",
        "inds = tf.placeholder(tf.int32, (num_classes,))\n",
        "x = tf.get_default_graph().get_tensor_by_name(\"x:0\")\n",
        "\n",
        "dydx = jacobian(last_layer_flat,x,inds)\n",
        "\n",
        "def f(image):\n",
        "  \n",
        "  f_i = sess.run(last_layer, feed_dict = { x : image})\n",
        "\n",
        "  return f_i\n",
        "\n",
        "def grad_fs(image, idx):\n",
        "  \n",
        "  grads = sess.run(dydx, feed_dict = {x:image, inds : idx})\n",
        "  grads = np.array(grads)\n",
        "  grads = grads.squeeze(axis = 1)\n",
        "\n",
        "  return grads\n",
        "\n",
        "def DeepFool(image, f, grad_fs, num_classes = 10, overshoot = 0.02, max_iter = 50):\n",
        "  \n",
        "  f_image = f(image).flatten()\n",
        "\n",
        "  I = f_image.argsort()[::-1]\n",
        "  I = I[:num_classes]\n",
        "\n",
        "  label = I[0]\n",
        "\n",
        "  pert_image = image\n",
        "\n",
        "  f_i = f(pert_image).flatten()\n",
        "  k_i = int(np.argmax(f_i))\n",
        "\n",
        "  w = np.zeros(image.shape)\n",
        "  r_tot = np.zeros(image.shape)\n",
        "\n",
        "  loop_i = 0\n",
        "  \n",
        "  while k_i == label and loop_i < max_iter:\n",
        "\n",
        "    pert = np.inf\n",
        "    gradients = grad_fs(pert_image, I)\n",
        "\n",
        "    for k in range(1,num_classes):\n",
        "      w_k = gradients[k,:,:,:,:] - gradients[0,:,:,:]\n",
        "      f_k = f_i[I[k]] - f_i[I[0]]\n",
        "\n",
        "      pert_k = abs(f_k) / np.sqrt(np.sum(w_k * w_k))\n",
        "      #pert_k = abs(f_k) / np.linalg.norm(w_k.flatten(),2)\n",
        "\n",
        "\n",
        "      if pert_k < pert:\n",
        "        pert = pert_k\n",
        "        w = w_k\n",
        "\n",
        "    r_i = pert * w / np.sqrt(np.sum(w_k*w_k))\n",
        "    # r_i = pert * w / np.linalg.norm(w_k.flatten(),2)\n",
        "\n",
        "    r_tot = r_tot + r_i\n",
        "\n",
        "    pert_image = image + (1+overshoot) * r_tot\n",
        "    \n",
        "    f_i = f(pert_image).flatten()\n",
        "    k_i = int(np.argmax(f_i))\n",
        "\n",
        "    loop_i = loop_i + 1\n",
        "\n",
        "  r_tot = (1+overshoot) * r_tot\n",
        "\n",
        "  return r_tot, loop_i, k_i, pert_image"
      ],
      "metadata": {
        "id": "aDlCjen3tA8b"
      },
      "execution_count": 7,
      "outputs": []
    },
    {
      "cell_type": "markdown",
      "source": [
        "DeepFool 적용"
      ],
      "metadata": {
        "id": "hQnaicE-uHeK"
      }
    },
    {
      "cell_type": "code",
      "source": [
        "(x_train, y_train), (x_test, y_test) = cifar10.load_data()\n",
        "\n",
        "image = x_train[10]\n",
        "c_ans = y_train[10]\n",
        "\n",
        "image = np.array(image)\n",
        "image = image /255.\n",
        "\n",
        "image = image.reshape(1,32,32,3)\n",
        "\n",
        "r_tot, loop_i, k_i, pert_image = DeepFool(image,f,grad_fs)\n",
        "\n",
        "fig = plt.figure()\n",
        "\n",
        "orig_pred = np.argmax(f(image))\n",
        "deepfool_pred = np.argmax(f(pert_image))\n",
        "\n",
        "ax1 = fig.add_subplot(1, 2, 1)\n",
        "ax1.imshow(image.reshape(32,32,3))\n",
        "ax1.set_title('original image ' + 'prediction : ' + str(orig_pred))\n",
        "\n",
        "ax2 = fig.add_subplot(1, 2, 2)\n",
        "ax2.imshow(pert_image.reshape(32,32,3))\n",
        "ax2.set_title('perturbed image '+ 'prediction : ' + str(deepfool_pred))\n",
        "\n",
        "plt.show()"
      ],
      "metadata": {
        "colab": {
          "base_uri": "https://localhost:8080/",
          "height": 308
        },
        "id": "sd-fSB2AtA-4",
        "outputId": "6b1eb23e-2513-4913-c845-4f5005c567ee"
      },
      "execution_count": 8,
      "outputs": [
        {
          "output_type": "display_data",
          "data": {
            "text/plain": [
              "<Figure size 640x480 with 2 Axes>"
            ],
            "image/png": "[encoded data removed]"
          },
          "metadata": {}
        }
      ]
    }
  ]
}